{
  "nbformat": 4,
  "nbformat_minor": 0,
  "metadata": {
    "colab": {
      "provenance": [],
      "authorship_tag": "ABX9TyPntpvoWEw9tG7w6yMGh1xg",
      "include_colab_link": true
    },
    "kernelspec": {
      "name": "python3",
      "display_name": "Python 3"
    },
    "language_info": {
      "name": "python"
    }
  },
  "cells": [
    {
      "cell_type": "markdown",
      "metadata": {
        "id": "view-in-github",
        "colab_type": "text"
      },
      "source": [
        "<a href=\"https://colab.research.google.com/github/rithikkulkarni/ALDA-Course-Project/blob/main/model_training.ipynb\" target=\"_parent\"><img src=\"https://colab.research.google.com/assets/colab-badge.svg\" alt=\"Open In Colab\"/></a>"
      ]
    },
    {
      "cell_type": "code",
      "execution_count": null,
      "metadata": {
        "id": "KgQoTR5c0BjY"
      },
      "outputs": [],
      "source": [
        "import pandas as pd\n",
        "\n",
        "# Importing labeled data\n",
        "labeled_df = pd.read_csv('https://raw.githubusercontent.com/rithikkulkarni/ALDA-Course-Project/refs/heads/main/datasets/labeled_stock_tweets.csv')\n",
        "labeled_df.info()"
      ]
    },
    {
      "cell_type": "code",
      "source": [
        "import pandas as pd\n",
        "\n",
        "# Find the minimum count\n",
        "min_count = labeled_df['Label'].value_counts().min()\n",
        "\n",
        "# Create balanced DataFrame by sampling minimum instances from each group\n",
        "balanced_df = labeled_df.groupby('Label').sample(n=min_count, random_state=42).reset_index(drop=True)\n",
        "\n",
        "# Print count\n",
        "print(balanced_df['Label'].value_counts())\n"
      ],
      "metadata": {
        "id": "pYNhgdaM0Ic0"
      },
      "execution_count": null,
      "outputs": []
    },
    {
      "cell_type": "code",
      "source": [
        "import re\n",
        "import nltk\n",
        "from nltk.corpus import stopwords\n",
        "from nltk.stem import PorterStemmer, WordNetLemmatizer\n",
        "\n",
        "nltk.download('stopwords')\n",
        "nltk.download('wordnet')\n",
        "nltk.download('omw-1.4')\n",
        "\n",
        "# Define stopwords from nltk\n",
        "stop_words = set(stopwords.words('english'))\n",
        "\n",
        "ps = PorterStemmer()\n",
        "lemmatizer = WordNetLemmatizer()\n",
        "\n",
        "def clean_tweet(tweet, remove_stopwords=True, apply_stemming=True, apply_lemmatization=True):\n",
        "    \"\"\"\n",
        "    Clean a tweet text by normalizing case, removing URLs, mentions, hashtags, numbers,\n",
        "    special characters, and optionally applying stemming and lemmatization.\n",
        "\n",
        "    Parameters:\n",
        "        tweet (str): Tweet text to be cleaned\n",
        "        remove_stopwords (bool): Whether to remove stopwords\n",
        "        apply_stemming (bool): Whether to apply stemming to the words\n",
        "        apply_lemmatization (bool): Whether to apply lemmatization to the words\n",
        "\n",
        "    Returns:\n",
        "        str: The cleaned tweet text\n",
        "    \"\"\"\n",
        "    # Lowercase the tweet\n",
        "    tweet = tweet.lower()\n",
        "\n",
        "    # Remove URLs\n",
        "    tweet = re.sub(r'http\\S+|www\\S+|https\\S+', '', tweet)\n",
        "\n",
        "    # Replace @ mentions with a placeholder\n",
        "    tweet = re.sub(r'@\\w+', 'USER', tweet)\n",
        "\n",
        "    # Remove hashtags but keep the words\n",
        "    tweet = re.sub(r'#', '', tweet)\n",
        "\n",
        "    # Remove numbers\n",
        "    tweet = re.sub(r'\\d+', '', tweet)\n",
        "\n",
        "    # Remove punctuation and special characters\n",
        "    tweet = re.sub(r'[^\\w\\s]', '', tweet)\n",
        "\n",
        "    # Shrink words with overused repeated letters (e.g., \"soooo\" -> \"so\")\n",
        "    tweet = re.sub(r'(.)\\1{2,}', r'\\1', tweet)\n",
        "\n",
        "    # Tokenize the tweet into words\n",
        "    words = tweet.split()\n",
        "\n",
        "    # Remove stopwords\n",
        "    if remove_stopwords:\n",
        "        words = [word for word in words if word not in stop_words]\n",
        "\n",
        "    # Apply stemming\n",
        "    if apply_stemming:\n",
        "        words = [ps.stem(word) for word in words]\n",
        "\n",
        "    # Apply lemmatization\n",
        "    if apply_lemmatization:\n",
        "        words = [lemmatizer.lemmatize(word) for word in words]\n",
        "\n",
        "    # Rejoin the words into a single string\n",
        "    return ' '.join(words)\n"
      ],
      "metadata": {
        "id": "YIS595pt0J9A"
      },
      "execution_count": null,
      "outputs": []
    },
    {
      "cell_type": "code",
      "source": [
        "labeled_df['Cleaned_Tweet'] = labeled_df['Tweet'].apply(lambda x: clean_tweet(str(x)))"
      ],
      "metadata": {
        "id": "lhHeW-qh0L-N"
      },
      "execution_count": null,
      "outputs": []
    },
    {
      "cell_type": "code",
      "source": [
        "labeled_df.head(50)"
      ],
      "metadata": {
        "id": "4MnKhxRS0NNU"
      },
      "execution_count": null,
      "outputs": []
    },
    {
      "cell_type": "code",
      "source": [
        "import pandas as pd\n",
        "from sklearn.feature_extraction.text import TfidfVectorizer\n",
        "from sklearn.model_selection import train_test_split\n",
        "from sklearn.linear_model import LogisticRegression\n",
        "from sklearn.metrics import accuracy_score, classification_report\n",
        "\n",
        "# Divide dataframe into explanatory and response variable, randomly sampled balanced subset of dataframe\n",
        "X = balanced_df['Cleaned_Tweet']\n",
        "y = balanced_df['Label']\n",
        "\n",
        "# Vectorize tweets using TF-IDF\n",
        "vectorizer = TfidfVectorizer()\n",
        "X_features = vectorizer.fit_transform(X)\n",
        "\n",
        "# 20% train/test split\n",
        "X_train, X_test, y_train, y_test = train_test_split(\n",
        "    X_features, y, test_size=0.2, random_state=42\n",
        ")\n",
        "\n",
        "# Train logistic regression model on data\n",
        "lr_model = LogisticRegression()\n",
        "lr_model.fit(X_train, y_train)\n",
        "\n",
        "# Step 5: Evaluate the model on the test set\n",
        "y_pred = lr_model.predict(X_test)\n",
        "print(\"Accuracy:\", accuracy_score(y_test, y_pred))\n",
        "print(\"Classification Report:\\n\", classification_report(y_test, y_pred))\n"
      ],
      "metadata": {
        "id": "7DKJxb4x0OnO"
      },
      "execution_count": null,
      "outputs": []
    },
    {
      "cell_type": "code",
      "source": [
        "### To be used for stock price\n",
        "\n",
        "import yfinance as yf\n",
        "\n",
        "ticker = yf.Ticker(\"AAPL\")\n",
        "hist = ticker.history(start=\"2024-02-05\", end=\"2024-02-12\")\n",
        "print(hist)"
      ],
      "metadata": {
        "id": "olKSdhMP0QCq"
      },
      "execution_count": null,
      "outputs": []
    }
  ]
}