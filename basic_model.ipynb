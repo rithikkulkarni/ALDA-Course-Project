{
  "cells": [
    {
      "cell_type": "markdown",
      "metadata": {
        "colab_type": "text",
        "id": "view-in-github"
      },
      "source": [
        "<a href=\"https://colab.research.google.com/github/rithikkulkarni/Twitter-Sentiment-Stock-Price-Prediction/blob/main/basic_model.ipynb\" target=\"_parent\"><img src=\"https://colab.research.google.com/assets/colab-badge.svg\" alt=\"Open In Colab\"/></a>"
      ]
    },
    {
      "cell_type": "code",
      "execution_count": 1,
      "metadata": {
        "id": "zVIm1P5n1Ila"
      },
      "outputs": [],
      "source": [
        "import pandas as pd\n",
        "import matplotlib.pyplot as plt\n",
        "import statsmodels.api as sm\n",
        "from scipy.stats import pearsonr, spearmanr\n",
        "from sklearn.model_selection import train_test_split\n",
        "from sklearn.ensemble import RandomForestRegressor\n",
        "from sklearn.linear_model import LogisticRegression\n",
        "from sklearn.metrics import classification_report, confusion_matrix, accuracy_score, mean_squared_error, r2_score"
      ]
    },
    {
      "cell_type": "code",
      "execution_count": 2,
      "metadata": {
        "id": "Z1l1DluH1RxP"
      },
      "outputs": [],
      "source": [
        "CSV_FILE_PATH = 'https://raw.githubusercontent.com/rithikkulkarni/ALDA-Course-Project/refs/heads/main/datasets/filtered_stocks_test.csv'\n",
        "TARGET_COLUMN = 'stock_performance'\n",
        "NUMERICAL_FEATURES = ['one_day_price', 'two_day_price', 'three_day_price', 'historical_price'\n",
        "                          , 'sentiment'\n",
        "                      ]\n",
        "\n",
        "TEST_SIZE = 0.2\n",
        "RANDOM_STATE = 42"
      ]
    },
    {
      "cell_type": "code",
      "execution_count": 3,
      "metadata": {
        "colab": {
          "base_uri": "https://localhost:8080/"
        },
        "id": "klGq8kku1UDj",
        "outputId": "b8f7e9d6-4ab3-41a7-beca-0fcb33e9e79d"
      },
      "outputs": [
        {
          "name": "stdout",
          "output_type": "stream",
          "text": [
            "Successfully loaded data. Shape: (4184, 10)\n",
            "\n",
            "Sample data:\n",
            "stock_performance\n",
            "-1    2171\n",
            " 1    2013\n",
            "Name: count, dtype: int64\n"
          ]
        }
      ],
      "source": [
        "df = pd.read_csv(CSV_FILE_PATH)\n",
        "# Shuffle the data\n",
        "df = df.sample(frac=1, random_state=RANDOM_STATE).reset_index(drop=True)\n",
        "print(f\"Successfully loaded data. Shape: {df.shape}\")\n",
        "print(\"\\nSample data:\")\n",
        "df.head(1)\n",
        "\n",
        "\n",
        "print(df['stock_performance'].value_counts())"
      ]
    },
    {
      "cell_type": "markdown",
      "metadata": {},
      "source": [
        "The following cell gets an equal sample of data from each label to ensure that a valid accuracy that ins't inflated by a single label is achieved."
      ]
    },
    {
      "cell_type": "code",
      "execution_count": 4,
      "metadata": {
        "colab": {
          "base_uri": "https://localhost:8080/"
        },
        "id": "rU-fODgXOsB2",
        "outputId": "3dc33ab6-99a1-44ca-e159-6dc024d2a106"
      },
      "outputs": [
        {
          "name": "stdout",
          "output_type": "stream",
          "text": [
            "min_count = 2013\n",
            "stock_performance\n",
            "-1    2013\n",
            " 1    2013\n",
            "Name: count, dtype: int64\n"
          ]
        }
      ],
      "source": [
        "# Find the min class count across the classes\n",
        "min_count = df['stock_performance'].value_counts().min()\n",
        "print(f\"min_count = {min_count}\")\n",
        "\n",
        "# Create a balanced dataframe by sampling min_count instances from each group\n",
        "df = df.groupby('stock_performance').sample(n=min_count, random_state=42).reset_index(drop=True)\n",
        "\n",
        "# Sanity check for class balance\n",
        "print(df['stock_performance'].value_counts())"
      ]
    },
    {
      "cell_type": "code",
      "execution_count": 5,
      "metadata": {
        "colab": {
          "base_uri": "https://localhost:8080/",
          "height": 476
        },
        "id": "pah24PaH1dIO",
        "outputId": "e75a6cdc-d609-4caa-e1b2-04b311cd79eb"
      },
      "outputs": [
        {
          "name": "stdout",
          "output_type": "stream",
          "text": [
            "\n",
            "Training set size: 3220\n",
            "Test set size: 806\n"
          ]
        },
        {
          "data": {
            "text/html": [
              "<div>\n",
              "<style scoped>\n",
              "    .dataframe tbody tr th:only-of-type {\n",
              "        vertical-align: middle;\n",
              "    }\n",
              "\n",
              "    .dataframe tbody tr th {\n",
              "        vertical-align: top;\n",
              "    }\n",
              "\n",
              "    .dataframe thead th {\n",
              "        text-align: right;\n",
              "    }\n",
              "</style>\n",
              "<table border=\"1\" class=\"dataframe\">\n",
              "  <thead>\n",
              "    <tr style=\"text-align: right;\">\n",
              "      <th></th>\n",
              "      <th>one_day_price</th>\n",
              "      <th>two_day_price</th>\n",
              "      <th>three_day_price</th>\n",
              "      <th>historical_price</th>\n",
              "      <th>sentiment</th>\n",
              "    </tr>\n",
              "  </thead>\n",
              "  <tbody>\n",
              "    <tr>\n",
              "      <th>274</th>\n",
              "      <td>150.76</td>\n",
              "      <td>152.41</td>\n",
              "      <td>168.17</td>\n",
              "      <td>163.21</td>\n",
              "      <td>0</td>\n",
              "    </tr>\n",
              "    <tr>\n",
              "      <th>866</th>\n",
              "      <td>332.17</td>\n",
              "      <td>332.92</td>\n",
              "      <td>328.20</td>\n",
              "      <td>329.74</td>\n",
              "      <td>0</td>\n",
              "    </tr>\n",
              "    <tr>\n",
              "      <th>231</th>\n",
              "      <td>369.68</td>\n",
              "      <td>385.62</td>\n",
              "      <td>379.02</td>\n",
              "      <td>368.58</td>\n",
              "      <td>0</td>\n",
              "    </tr>\n",
              "    <tr>\n",
              "      <th>2318</th>\n",
              "      <td>134.66</td>\n",
              "      <td>133.50</td>\n",
              "      <td>137.95</td>\n",
              "      <td>135.32</td>\n",
              "      <td>0</td>\n",
              "    </tr>\n",
              "    <tr>\n",
              "      <th>2261</th>\n",
              "      <td>166.37</td>\n",
              "      <td>177.66</td>\n",
              "      <td>173.10</td>\n",
              "      <td>231.36</td>\n",
              "      <td>0</td>\n",
              "    </tr>\n",
              "    <tr>\n",
              "      <th>...</th>\n",
              "      <td>...</td>\n",
              "      <td>...</td>\n",
              "      <td>...</td>\n",
              "      <td>...</td>\n",
              "      <td>...</td>\n",
              "    </tr>\n",
              "    <tr>\n",
              "      <th>1178</th>\n",
              "      <td>333.04</td>\n",
              "      <td>331.33</td>\n",
              "      <td>307.05</td>\n",
              "      <td>283.48</td>\n",
              "      <td>0</td>\n",
              "    </tr>\n",
              "    <tr>\n",
              "      <th>1630</th>\n",
              "      <td>124.30</td>\n",
              "      <td>132.57</td>\n",
              "      <td>175.80</td>\n",
              "      <td>170.31</td>\n",
              "      <td>0</td>\n",
              "    </tr>\n",
              "    <tr>\n",
              "      <th>454</th>\n",
              "      <td>262.22</td>\n",
              "      <td>258.88</td>\n",
              "      <td>258.74</td>\n",
              "      <td>274.31</td>\n",
              "      <td>0</td>\n",
              "    </tr>\n",
              "    <tr>\n",
              "      <th>3582</th>\n",
              "      <td>456.12</td>\n",
              "      <td>448.99</td>\n",
              "      <td>446.42</td>\n",
              "      <td>434.08</td>\n",
              "      <td>0</td>\n",
              "    </tr>\n",
              "    <tr>\n",
              "      <th>3895</th>\n",
              "      <td>288.41</td>\n",
              "      <td>282.83</td>\n",
              "      <td>277.45</td>\n",
              "      <td>270.17</td>\n",
              "      <td>0</td>\n",
              "    </tr>\n",
              "  </tbody>\n",
              "</table>\n",
              "<p>3220 rows × 5 columns</p>\n",
              "</div>"
            ],
            "text/plain": [
              "      one_day_price  two_day_price  three_day_price  historical_price  \\\n",
              "274          150.76         152.41           168.17            163.21   \n",
              "866          332.17         332.92           328.20            329.74   \n",
              "231          369.68         385.62           379.02            368.58   \n",
              "2318         134.66         133.50           137.95            135.32   \n",
              "2261         166.37         177.66           173.10            231.36   \n",
              "...             ...            ...              ...               ...   \n",
              "1178         333.04         331.33           307.05            283.48   \n",
              "1630         124.30         132.57           175.80            170.31   \n",
              "454          262.22         258.88           258.74            274.31   \n",
              "3582         456.12         448.99           446.42            434.08   \n",
              "3895         288.41         282.83           277.45            270.17   \n",
              "\n",
              "      sentiment  \n",
              "274           0  \n",
              "866           0  \n",
              "231           0  \n",
              "2318          0  \n",
              "2261          0  \n",
              "...         ...  \n",
              "1178          0  \n",
              "1630          0  \n",
              "454           0  \n",
              "3582          0  \n",
              "3895          0  \n",
              "\n",
              "[3220 rows x 5 columns]"
            ]
          },
          "execution_count": 5,
          "metadata": {},
          "output_type": "execute_result"
        }
      ],
      "source": [
        "# Train/test split\n",
        "X = df[NUMERICAL_FEATURES]\n",
        "y = df[TARGET_COLUMN]\n",
        "\n",
        "X_train, X_test, y_train, y_test = train_test_split(\n",
        "    X, y,\n",
        "    test_size=TEST_SIZE,\n",
        "    random_state=RANDOM_STATE,\n",
        "    stratify=y\n",
        ")\n",
        "print(f\"\\nTraining set size: {X_train.shape[0]}\")\n",
        "print(f\"Test set size: {X_test.shape[0]}\")\n",
        "X_train"
      ]
    },
    {
      "cell_type": "code",
      "execution_count": 6,
      "metadata": {
        "colab": {
          "base_uri": "https://localhost:8080/"
        },
        "id": "GtKQwMr31dvo",
        "outputId": "04574834-96eb-4ae6-beee-7fbcea7bac14"
      },
      "outputs": [
        {
          "name": "stdout",
          "output_type": "stream",
          "text": [
            "\n",
            "Training the model...\n",
            "Model training complete.\n",
            "\n",
            "Making predictions on the test set...\n",
            "\n",
            "--- Model Evaluation ---\n",
            "Accuracy: 0.5000\n",
            "\n",
            "Classification Report:\n",
            "              precision    recall  f1-score   support\n",
            "\n",
            "   Down (-1)       0.50      0.58      0.54       403\n",
            " Neutral (0)       0.00      0.00      0.00         0\n",
            "      Up (1)       0.50      0.42      0.46       403\n",
            "\n",
            "   micro avg       0.50      0.50      0.50       806\n",
            "   macro avg       0.33      0.33      0.33       806\n",
            "weighted avg       0.50      0.50      0.50       806\n",
            "\n",
            "\n",
            "Confusion Matrix:\n",
            "                Predicted Down  Predicted Neutral  Predicted Up\n",
            "Actual Down                234                  0           169\n",
            "Actual Neutral               0                  0             0\n",
            "Actual Up                  234                  0           169\n",
            "[ 0.00139276  0.00119582 -0.0018998  -0.00064757 -0.04529148]\n"
          ]
        }
      ],
      "source": [
        "# Models\n",
        "# Logistic Regression\n",
        "model = LogisticRegression(multi_class='ovr', solver='liblinear', class_weight='balanced', random_state=RANDOM_STATE)\n",
        "\n",
        "print(\"\\nTraining the model...\")\n",
        "model.fit(X_train, y_train)\n",
        "coefficients = model.coef_[0]\n",
        "print(\"Model training complete.\")\n",
        "\n",
        "# Predict\n",
        "print(\"\\nMaking predictions on the test set...\")\n",
        "y_pred = model.predict(X_test)\n",
        "\n",
        "# Evaluate\n",
        "accuracy = accuracy_score(y_test, y_pred)\n",
        "print(f\"\\n--- Model Evaluation ---\")\n",
        "print(f\"Accuracy: {accuracy:.4f}\")\n",
        "\n",
        "\n",
        "print(\"\\nClassification Report:\")\n",
        "# Use labels=[-1, 0, 1] to ensure all classes are shown even if one is missing in predictions\n",
        "print(classification_report(y_test, y_pred, labels=[-1, 0, 1], target_names=['Down (-1)', 'Neutral (0)', 'Up (1)'], zero_division=0))\n",
        "\n",
        "print(\"\\nConfusion Matrix:\")\n",
        "# Rows: Actual, Columns: Predicted\n",
        "cm = confusion_matrix(y_test, y_pred, labels=[-1, 0, 1])\n",
        "print(pd.DataFrame(cm, index=['Actual Down', 'Actual Neutral', 'Actual Up'],\n",
        "                   columns=['Predicted Down', 'Predicted Neutral', 'Predicted Up']))\n",
        "print(coefficients)\n"
      ]
    },
    {
      "cell_type": "code",
      "execution_count": 7,
      "metadata": {
        "colab": {
          "base_uri": "https://localhost:8080/"
        },
        "id": "av76bSKciQvo",
        "outputId": "280c89af-6bf5-4d42-953c-fba29b4e19e0"
      },
      "outputs": [
        {
          "name": "stdout",
          "output_type": "stream",
          "text": [
            "\n",
            "Training the model...\n",
            "Model training complete.\n",
            "\n",
            "Making predictions on the test set...\n",
            "\n",
            "--- Model Evaluation ---\n",
            "Mean Squared Error (MSE): 10.8778\n",
            "Root Mean Squared Error (RMSE): 3.2981\n",
            "R-squared (R2): -0.1276\n",
            "[0.23121832 0.21837638 0.24302707 0.28538468 0.02199355]\n"
          ]
        }
      ],
      "source": [
        "# Switch target to pct change\n",
        "X = df[NUMERICAL_FEATURES]\n",
        "y = df['pct_change']\n",
        "\n",
        "# Train/test split\n",
        "X_train, X_test, y_train, y_test = train_test_split(\n",
        "    X, y,\n",
        "    test_size=TEST_SIZE,\n",
        "    random_state=RANDOM_STATE\n",
        ")\n",
        "\n",
        "# Model\n",
        "model = RandomForestRegressor(n_estimators=100, random_state=RANDOM_STATE, n_jobs=-1)\n",
        "print(\"\\nTraining the model...\")\n",
        "model.fit(X_train, y_train)\n",
        "print(\"Model training complete.\")\n",
        "\n",
        "# Predict\n",
        "print(\"\\nMaking predictions on the test set...\")\n",
        "y_pred = model.predict(X_test)\n",
        "\n",
        "# Evaluate\n",
        "mse = mean_squared_error(y_test, y_pred)\n",
        "rmse = mse**0.5\n",
        "r2 = r2_score(y_test, y_pred)\n",
        "\n",
        "# Display results\n",
        "print(f\"\\n--- Model Evaluation ---\")\n",
        "print(f\"Mean Squared Error (MSE): {mse:.4f}\")\n",
        "print(f\"Root Mean Squared Error (RMSE): {rmse:.4f}\")\n",
        "print(f\"R-squared (R2): {r2:.4f}\")\n",
        "importances = model.feature_importances_\n",
        "print(importances)\n"
      ]
    },
    {
      "cell_type": "code",
      "execution_count": 8,
      "metadata": {
        "colab": {
          "base_uri": "https://localhost:8080/",
          "height": 607
        },
        "id": "-pc4E9C4Zznc",
        "outputId": "ec362551-0f44-4321-ca07-a63a13136af3"
      },
      "outputs": [
        {
          "data": {
            "image/png": "[encoded data removed]",
            "text/plain": [
              "<Figure size 1200x600 with 2 Axes>"
            ]
          },
          "metadata": {},
          "output_type": "display_data"
        }
      ],
      "source": [
        "company_name = \"NOC\"\n",
        "n = 100\n",
        "\n",
        "# Choose company\n",
        "df_company = df[df[\"Stock Name\"] == company_name].copy()\n",
        "\n",
        "# Sort by date\n",
        "df_company[\"Date\"] = pd.to_datetime(df_company[\"Date\"])\n",
        "df_company.sort_values(\"Date\", inplace=True)\n",
        "\n",
        "# Filter by n days\n",
        "end_date = df_company[\"Date\"].max()\n",
        "start_date = end_date - pd.Timedelta(days=n - 1)\n",
        "df_plot = df_company[(df_company[\"Date\"] >= start_date) & (df_company[\"Date\"] <= end_date)]\n",
        "\n",
        "# Plotting\n",
        "fig, ax1 = plt.subplots(figsize=(12, 6))\n",
        "\n",
        "# Plot pct_change on the first y-axis\n",
        "ax1.plot(df_plot[\"Date\"], df_plot[\"pct_change\"], color=\"blue\", marker=\"o\", label=\"Pct Change\")\n",
        "ax1.set_xlabel(\"Date\")\n",
        "ax1.set_ylabel(\"Pct Change\", color=\"blue\")\n",
        "ax1.tick_params(axis=\"y\", labelcolor=\"blue\")\n",
        "\n",
        "# Create a secondary y-axis for sentiment\n",
        "ax2 = ax1.twinx()\n",
        "ax2.plot(df_plot[\"Date\"], df_plot[\"sentiment\"], color=\"red\", marker=\"x\", label=\"Sentiment\")\n",
        "ax2.set_ylabel(\"Sentiment\", color=\"red\")\n",
        "ax2.tick_params(axis=\"y\", labelcolor=\"red\")\n",
        "\n",
        "# Add title and format x-axis labels for readability\n",
        "plt.title(f\"Pct Change and Sentiment over Time for {company_name} (Last {n} Days)\")\n",
        "plt.xticks(rotation=45)\n",
        "plt.tight_layout()\n",
        "plt.show()\n"
      ]
    },
    {
      "cell_type": "code",
      "execution_count": 9,
      "metadata": {
        "colab": {
          "base_uri": "https://localhost:8080/"
        },
        "id": "2EJ0jv0UBH8N",
        "outputId": "58e9dba8-2028-41c9-f7f0-1fd0286347aa"
      },
      "outputs": [
        {
          "name": "stdout",
          "output_type": "stream",
          "text": [
            "Pearson correlation for NOC: -0.1877, p-value: 6.8701e-01\n",
            "Spearman correlation for NOC: -0.2673, p-value: 5.6231e-01\n"
          ]
        }
      ],
      "source": [
        "# Compute Pearson correlation for the filtered data (for the given company)\n",
        "pearson_corr, pearson_p = pearsonr(df_plot['pct_change'], df_plot['sentiment'])\n",
        "print(f\"Pearson correlation for {company_name}: {pearson_corr:.4f}, p-value: {pearson_p:.4e}\")\n",
        "\n",
        "# Compute Spearman correlation for the filtered data (for the given company)\n",
        "spearman_corr, spearman_p = spearmanr(df_plot['pct_change'], df_plot['sentiment'])\n",
        "print(f\"Spearman correlation for {company_name}: {spearman_corr:.4f}, p-value: {spearman_p:.4e}\")\n"
      ]
    },
    {
      "cell_type": "code",
      "execution_count": 10,
      "metadata": {
        "colab": {
          "base_uri": "https://localhost:8080/"
        },
        "id": "sYtdiYU8C9Xv",
        "outputId": "941fdc19-626c-435b-e282-12a277ee4c7a"
      },
      "outputs": [
        {
          "name": "stdout",
          "output_type": "stream",
          "text": [
            "   Stock Name  Pearson Corr  Pearson p-value  Spearman Corr  Spearman p-value\n",
            "24        NOC      0.255865         0.227517       0.084905          0.693244\n",
            "14          F     -0.166568         0.447484      -0.139460          0.525661\n",
            "18         BX     -0.140238         0.494420      -0.123759          0.546951\n",
            "5          BA      0.109169         0.189629       0.114000          0.170658\n",
            "2        ENPH      0.097157         0.370664       0.051610          0.634972\n",
            "8        INTC     -0.094149         0.290477      -0.113041          0.203927\n",
            "10         KO     -0.091068         0.302801      -0.093840          0.288255\n",
            "0        PYPL     -0.082644         0.270050      -0.080156          0.284784\n",
            "21         ZS      0.080882         0.428526       0.109959          0.281104\n",
            "9        MSFT     -0.075049         0.248776      -0.025080          0.700286\n",
            "22       XPEV      0.065961         0.536785       0.063672          0.551034\n",
            "7        COST     -0.062455         0.450793      -0.055654          0.501685\n",
            "6         DIS      0.058871         0.433740       0.025006          0.739690\n",
            "15       META      0.044728         0.514179       0.035618          0.603493\n",
            "19         PG      0.041063         0.524079       0.034475          0.592790\n",
            "1         NIO     -0.038280         0.557593      -0.027263          0.676260\n",
            "17        CRM      0.035479         0.712892       0.062990          0.513273\n",
            "12       NFLX      0.024527         0.718763       0.033111          0.626824\n",
            "13       AMZN      0.014508         0.821612       0.037880          0.555938\n",
            "11        AMD      0.010237         0.875159       0.024109          0.711360\n",
            "23         VZ     -0.007820         0.952304      -0.014037          0.914498\n",
            "16       AAPL      0.003683         0.954552       0.006534          0.919459\n",
            "3        GOOG     -0.002319         0.972038      -0.012855          0.845920\n",
            "4        TSLA           NaN              NaN            NaN               NaN\n",
            "20        TSM           NaN              NaN            NaN               NaN\n"
          ]
        },
        {
          "name": "stderr",
          "output_type": "stream",
          "text": [
            "C:\\Users\\zeiad\\AppData\\Local\\Packages\\PythonSoftwareFoundation.Python.3.11_qbz5n2kfra8p0\\LocalCache\\local-packages\\Python311\\site-packages\\scipy\\stats\\_stats_py.py:4781: ConstantInputWarning: An input array is constant; the correlation coefficient is not defined.\n",
            "  warnings.warn(stats.ConstantInputWarning(msg))\n",
            "C:\\Users\\zeiad\\AppData\\Local\\Packages\\PythonSoftwareFoundation.Python.3.11_qbz5n2kfra8p0\\LocalCache\\local-packages\\Python311\\site-packages\\scipy\\stats\\_stats_py.py:5445: ConstantInputWarning: An input array is constant; the correlation coefficient is not defined.\n",
            "  warnings.warn(stats.ConstantInputWarning(warn_msg))\n"
          ]
        }
      ],
      "source": [
        "# Get the unique companies\n",
        "companies = df[\"Stock Name\"].unique()\n",
        "\n",
        "# List for storing correlation results for each company\n",
        "results = []\n",
        "\n",
        "for company in companies:\n",
        "    # Pull only current company\n",
        "    company_data = df[df[\"Stock Name\"] == company]\n",
        "\n",
        "    # Check if there are enough observations\n",
        "    if len(company_data) > 1:\n",
        "        try:\n",
        "            # Compute Pearson correlation (linear relationship)\n",
        "            pearson_corr, pearson_p = pearsonr(company_data[\"pct_change\"], company_data[\"sentiment\"])\n",
        "            # Compute Spearman correlation (monotonic relationship)\n",
        "            spearman_corr, spearman_p = spearmanr(company_data[\"pct_change\"], company_data[\"sentiment\"])\n",
        "        except Exception as e:\n",
        "            # If any error occurs, set values to None\n",
        "            pearson_corr, pearson_p, spearman_corr, spearman_p = None, None, None, None\n",
        "    else:\n",
        "        pearson_corr, pearson_p, spearman_corr, spearman_p = None, None, None, None\n",
        "\n",
        "    # Add reuslts to dictionary\n",
        "    results.append({\n",
        "        \"Stock Name\": company,\n",
        "        \"Pearson Corr\": pearson_corr,\n",
        "        \"Pearson p-value\": pearson_p,\n",
        "        \"Spearman Corr\": spearman_corr,\n",
        "        \"Spearman p-value\": spearman_p\n",
        "    })\n",
        "\n",
        "# Create a new DataFrame from the results\n",
        "df_corr = pd.DataFrame(results)\n",
        "# print(df_corr)\n",
        "\n",
        "# Sort by absolute value of Pearson or Spearman correlation\n",
        "df_corr_sorted = df_corr.sort_values(by=\"Pearson Corr\", key=lambda x: x.abs(), ascending=False)\n",
        "print(df_corr_sorted)"
      ]
    },
    {
      "cell_type": "code",
      "execution_count": 11,
      "metadata": {
        "colab": {
          "base_uri": "https://localhost:8080/"
        },
        "id": "ToVK1otuFtcU",
        "outputId": "83f130e8-b6d8-4a2e-ff68-849ff587c2b6"
      },
      "outputs": [
        {
          "name": "stdout",
          "output_type": "stream",
          "text": [
            "                            OLS Regression Results                            \n",
            "==============================================================================\n",
            "Dep. Variable:             pct_change   R-squared:                       0.936\n",
            "Model:                            OLS   Adj. R-squared:                  0.614\n",
            "Method:                 Least Squares   F-statistic:                     2.912\n",
            "Date:                Sat, 12 Apr 2025   Prob (F-statistic):              0.417\n",
            "Time:                        23:21:31   Log-Likelihood:                -5.2157\n",
            "No. Observations:                   7   AIC:                             22.43\n",
            "Df Residuals:                       1   BIC:                             22.11\n",
            "Df Model:                           5                                         \n",
            "Covariance Type:            nonrobust                                         \n",
            "====================================================================================\n",
            "                       coef    std err          t      P>|t|      [0.025      0.975]\n",
            "------------------------------------------------------------------------------------\n",
            "const              -55.8911     38.660     -1.446      0.385    -547.111     435.329\n",
            "sentiment           -0.6647      0.968     -0.687      0.617     -12.962      11.632\n",
            "one_day_price       -0.2730      0.078     -3.498      0.177      -1.265       0.719\n",
            "two_day_price        0.1830      0.141      1.302      0.417      -1.603       1.969\n",
            "three_day_price      0.0529      0.179      0.295      0.817      -2.223       2.329\n",
            "historical_price     0.1630      0.100      1.630      0.350      -1.108       1.433\n",
            "==============================================================================\n",
            "Omnibus:                          nan   Durbin-Watson:                   1.130\n",
            "Prob(Omnibus):                    nan   Jarque-Bera (JB):                0.536\n",
            "Skew:                           0.360   Prob(JB):                        0.765\n",
            "Kurtosis:                       1.852   Cond. No.                     6.84e+04\n",
            "==============================================================================\n",
            "\n",
            "Notes:\n",
            "[1] Standard Errors assume that the covariance matrix of the errors is correctly specified.\n",
            "[2] The condition number is large, 6.84e+04. This might indicate that there are\n",
            "strong multicollinearity or other numerical problems.\n"
          ]
        },
        {
          "name": "stderr",
          "output_type": "stream",
          "text": [
            "C:\\Users\\zeiad\\AppData\\Local\\Packages\\PythonSoftwareFoundation.Python.3.11_qbz5n2kfra8p0\\LocalCache\\local-packages\\Python311\\site-packages\\statsmodels\\stats\\stattools.py:74: ValueWarning: omni_normtest is not valid with less than 8 observations; 7 samples were given.\n",
            "  warn(\"omni_normtest is not valid with less than 8 observations; %i \"\n"
          ]
        }
      ],
      "source": [
        "# Define the predictor variables and the target variable.\n",
        "features = ['sentiment', 'one_day_price', 'two_day_price', 'three_day_price', 'historical_price']\n",
        "X = df_plot[features]\n",
        "y = df_plot['pct_change']\n",
        "\n",
        "# Add a constant to the predictors (for the intercept)\n",
        "X = sm.add_constant(X)\n",
        "\n",
        "# OLS regression\n",
        "model = sm.OLS(y, X).fit()\n",
        "\n",
        "# Print the regression summary\n",
        "print(model.summary())\n"
      ]
    }
  ],
  "metadata": {
    "colab": {
      "include_colab_link": true,
      "provenance": []
    },
    "kernelspec": {
      "display_name": "Python 3",
      "language": "python",
      "name": "python3"
    },
    "language_info": {
      "codemirror_mode": {
        "name": "ipython",
        "version": 3
      },
      "file_extension": ".py",
      "mimetype": "text/x-python",
      "name": "python",
      "nbconvert_exporter": "python",
      "pygments_lexer": "ipython3",
      "version": "3.11.9"
    }
  },
  "nbformat": 4,
  "nbformat_minor": 0
}
