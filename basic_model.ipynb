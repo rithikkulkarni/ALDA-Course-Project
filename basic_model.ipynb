{
  "nbformat": 4,
  "nbformat_minor": 0,
  "metadata": {
    "colab": {
      "provenance": [],
      "include_colab_link": true
    },
    "kernelspec": {
      "name": "python3",
      "display_name": "Python 3"
    },
    "language_info": {
      "name": "python"
    }
  },
  "cells": [
    {
      "cell_type": "markdown",
      "metadata": {
        "id": "view-in-github",
        "colab_type": "text"
      },
      "source": [
        "<a href=\"https://colab.research.google.com/github/rithikkulkarni/ALDA-Course-Project/blob/main/basic_model.ipynb\" target=\"_parent\"><img src=\"https://colab.research.google.com/assets/colab-badge.svg\" alt=\"Open In Colab\"/></a>"
      ]
    },
    {
      "cell_type": "code",
      "execution_count": 109,
      "metadata": {
        "id": "zVIm1P5n1Ila"
      },
      "outputs": [],
      "source": [
        "import pandas as pd\n",
        "from sklearn.model_selection import train_test_split\n",
        "from sklearn.feature_extraction.text import TfidfVectorizer\n",
        "from sklearn.preprocessing import StandardScaler, OneHotEncoder\n",
        "from sklearn.compose import ColumnTransformer\n",
        "from sklearn.pipeline import Pipeline\n",
        "from sklearn.ensemble import RandomForestClassifier  # Example classifier\n",
        "from sklearn.linear_model import LogisticRegression # Alternative classifier\n",
        "from sklearn.metrics import classification_report, confusion_matrix, accuracy_score"
      ]
    },
    {
      "cell_type": "code",
      "source": [
        "# --- Configuration ---\n",
        "CSV_FILE_PATH = 'https://raw.githubusercontent.com/rithikkulkarni/ALDA-Course-Project/refs/heads/main/datasets/filtered_stocks.csv'  # <--- CHANGE THIS to your CSV file path\n",
        "TARGET_COLUMN = 'stock_performance'\n",
        "# TEXT_FEATURE = 'Cleaned_Tweet'\n",
        "NUMERICAL_FEATURES = ['one_day_price', 'two_day_price', 'three_day_price', 'historical_price'\n",
        "                         #, 'sentiment'\n",
        "                      ]\n",
        "\n",
        "TEST_SIZE = 0.2  # 20% of data for testing\n",
        "RANDOM_STATE = 42 # For reproducibility"
      ],
      "metadata": {
        "id": "Z1l1DluH1RxP"
      },
      "execution_count": 110,
      "outputs": []
    },
    {
      "cell_type": "code",
      "source": [
        "df = pd.read_csv(CSV_FILE_PATH)\n",
        "df = df.sample(frac=1, random_state=RANDOM_STATE).reset_index(drop=True)  # Shuffle the DataFrame\n",
        "print(f\"Successfully loaded data. Shape: {df.shape}\")\n",
        "print(\"\\nSample data:\")\n",
        "df.head(1)"
      ],
      "metadata": {
        "colab": {
          "base_uri": "https://localhost:8080/",
          "height": 133
        },
        "id": "klGq8kku1UDj",
        "outputId": "9362e84c-078c-4035-eb6d-f49181a43da0"
      },
      "execution_count": 111,
      "outputs": [
        {
          "output_type": "stream",
          "name": "stdout",
          "text": [
            "Successfully loaded data. Shape: (3033, 10)\n",
            "\n",
            "Sample data:\n"
          ]
        },
        {
          "output_type": "execute_result",
          "data": {
            "text/plain": [
              "         Date Stock Name  sentiment  stock_performance  pct_change  \\\n",
              "0  2022-01-04        NIO          1                  0   -5.383156   \n",
              "\n",
              "   one_day_price  two_day_price  three_day_price  historical_price  \\\n",
              "0          33.47          31.68            32.42             31.49   \n",
              "\n",
              "   sentiment.1  \n",
              "0            1  "
            ],
            "text/html": [
              "\n",
              "  <div id=\"df-6d8e0977-61a9-4e2f-a3ab-0f2508138ce5\" class=\"colab-df-container\">\n",
              "    <div>\n",
              "<style scoped>\n",
              "    .dataframe tbody tr th:only-of-type {\n",
              "        vertical-align: middle;\n",
              "    }\n",
              "\n",
              "    .dataframe tbody tr th {\n",
              "        vertical-align: top;\n",
              "    }\n",
              "\n",
              "    .dataframe thead th {\n",
              "        text-align: right;\n",
              "    }\n",
              "</style>\n",
              "<table border=\"1\" class=\"dataframe\">\n",
              "  <thead>\n",
              "    <tr style=\"text-align: right;\">\n",
              "      <th></th>\n",
              "      <th>Date</th>\n",
              "      <th>Stock Name</th>\n",
              "      <th>sentiment</th>\n",
              "      <th>stock_performance</th>\n",
              "      <th>pct_change</th>\n",
              "      <th>one_day_price</th>\n",
              "      <th>two_day_price</th>\n",
              "      <th>three_day_price</th>\n",
              "      <th>historical_price</th>\n",
              "      <th>sentiment.1</th>\n",
              "    </tr>\n",
              "  </thead>\n",
              "  <tbody>\n",
              "    <tr>\n",
              "      <th>0</th>\n",
              "      <td>2022-01-04</td>\n",
              "      <td>NIO</td>\n",
              "      <td>1</td>\n",
              "      <td>0</td>\n",
              "      <td>-5.383156</td>\n",
              "      <td>33.47</td>\n",
              "      <td>31.68</td>\n",
              "      <td>32.42</td>\n",
              "      <td>31.49</td>\n",
              "      <td>1</td>\n",
              "    </tr>\n",
              "  </tbody>\n",
              "</table>\n",
              "</div>\n",
              "    <div class=\"colab-df-buttons\">\n",
              "\n",
              "  <div class=\"colab-df-container\">\n",
              "    <button class=\"colab-df-convert\" onclick=\"convertToInteractive('df-6d8e0977-61a9-4e2f-a3ab-0f2508138ce5')\"\n",
              "            title=\"Convert this dataframe to an interactive table.\"\n",
              "            style=\"display:none;\">\n",
              "\n",
              "  <svg xmlns=\"http://www.w3.org/2000/svg\" height=\"24px\" viewBox=\"0 -960 960 960\">\n",
              "    <path d=\"M120-120v-720h720v720H120Zm60-500h600v-160H180v160Zm220 220h160v-160H400v160Zm0 220h160v-160H400v160ZM180-400h160v-160H180v160Zm440 0h160v-160H620v160ZM180-180h160v-160H180v160Zm440 0h160v-160H620v160Z\"/>\n",
              "  </svg>\n",
              "    </button>\n",
              "\n",
              "  <style>\n",
              "    .colab-df-container {\n",
              "      display:flex;\n",
              "      gap: 12px;\n",
              "    }\n",
              "\n",
              "    .colab-df-convert {\n",
              "      background-color: #E8F0FE;\n",
              "      border: none;\n",
              "      border-radius: 50%;\n",
              "      cursor: pointer;\n",
              "      display: none;\n",
              "      fill: #1967D2;\n",
              "      height: 32px;\n",
              "      padding: 0 0 0 0;\n",
              "      width: 32px;\n",
              "    }\n",
              "\n",
              "    .colab-df-convert:hover {\n",
              "      background-color: #E2EBFA;\n",
              "      box-shadow: 0px 1px 2px rgba(60, 64, 67, 0.3), 0px 1px 3px 1px rgba(60, 64, 67, 0.15);\n",
              "      fill: #174EA6;\n",
              "    }\n",
              "\n",
              "    .colab-df-buttons div {\n",
              "      margin-bottom: 4px;\n",
              "    }\n",
              "\n",
              "    [theme=dark] .colab-df-convert {\n",
              "      background-color: #3B4455;\n",
              "      fill: #D2E3FC;\n",
              "    }\n",
              "\n",
              "    [theme=dark] .colab-df-convert:hover {\n",
              "      background-color: #434B5C;\n",
              "      box-shadow: 0px 1px 3px 1px rgba(0, 0, 0, 0.15);\n",
              "      filter: drop-shadow(0px 1px 2px rgba(0, 0, 0, 0.3));\n",
              "      fill: #FFFFFF;\n",
              "    }\n",
              "  </style>\n",
              "\n",
              "    <script>\n",
              "      const buttonEl =\n",
              "        document.querySelector('#df-6d8e0977-61a9-4e2f-a3ab-0f2508138ce5 button.colab-df-convert');\n",
              "      buttonEl.style.display =\n",
              "        google.colab.kernel.accessAllowed ? 'block' : 'none';\n",
              "\n",
              "      async function convertToInteractive(key) {\n",
              "        const element = document.querySelector('#df-6d8e0977-61a9-4e2f-a3ab-0f2508138ce5');\n",
              "        const dataTable =\n",
              "          await google.colab.kernel.invokeFunction('convertToInteractive',\n",
              "                                                    [key], {});\n",
              "        if (!dataTable) return;\n",
              "\n",
              "        const docLinkHtml = 'Like what you see? Visit the ' +\n",
              "          '<a target=\"_blank\" href=https://colab.research.google.com/notebooks/data_table.ipynb>data table notebook</a>'\n",
              "          + ' to learn more about interactive tables.';\n",
              "        element.innerHTML = '';\n",
              "        dataTable['output_type'] = 'display_data';\n",
              "        await google.colab.output.renderOutput(dataTable, element);\n",
              "        const docLink = document.createElement('div');\n",
              "        docLink.innerHTML = docLinkHtml;\n",
              "        element.appendChild(docLink);\n",
              "      }\n",
              "    </script>\n",
              "  </div>\n",
              "\n",
              "\n",
              "    </div>\n",
              "  </div>\n"
            ],
            "application/vnd.google.colaboratory.intrinsic+json": {
              "type": "dataframe",
              "variable_name": "df",
              "summary": "{\n  \"name\": \"df\",\n  \"rows\": 3033,\n  \"fields\": [\n    {\n      \"column\": \"Date\",\n      \"properties\": {\n        \"dtype\": \"object\",\n        \"num_unique_values\": 252,\n        \"samples\": [\n          \"2022-01-18\",\n          \"2021-10-07\",\n          \"2021-12-30\"\n        ],\n        \"semantic_type\": \"\",\n        \"description\": \"\"\n      }\n    },\n    {\n      \"column\": \"Stock Name\",\n      \"properties\": {\n        \"dtype\": \"category\",\n        \"num_unique_values\": 25,\n        \"samples\": [\n          \"MSFT\",\n          \"GOOG\",\n          \"NIO\"\n        ],\n        \"semantic_type\": \"\",\n        \"description\": \"\"\n      }\n    },\n    {\n      \"column\": \"sentiment\",\n      \"properties\": {\n        \"dtype\": \"number\",\n        \"std\": 0,\n        \"min\": -1,\n        \"max\": 1,\n        \"num_unique_values\": 3,\n        \"samples\": [\n          1,\n          -1,\n          0\n        ],\n        \"semantic_type\": \"\",\n        \"description\": \"\"\n      }\n    },\n    {\n      \"column\": \"stock_performance\",\n      \"properties\": {\n        \"dtype\": \"number\",\n        \"std\": 0,\n        \"min\": 0,\n        \"max\": 1,\n        \"num_unique_values\": 2,\n        \"samples\": [\n          1,\n          0\n        ],\n        \"semantic_type\": \"\",\n        \"description\": \"\"\n      }\n    },\n    {\n      \"column\": \"pct_change\",\n      \"properties\": {\n        \"dtype\": \"number\",\n        \"std\": 3.403209384954448,\n        \"min\": -35.116602522644165,\n        \"max\": 25.586065751786624,\n        \"num_unique_values\": 3028,\n        \"samples\": [\n          5.527904488059296,\n          3.1573577374711075\n        ],\n        \"semantic_type\": \"\",\n        \"description\": \"\"\n      }\n    },\n    {\n      \"column\": \"one_day_price\",\n      \"properties\": {\n        \"dtype\": \"number\",\n        \"std\": 112.523130711508,\n        \"min\": 10.2,\n        \"max\": 687.4,\n        \"num_unique_values\": 2857,\n        \"samples\": [\n          139.39,\n          126.65\n        ],\n        \"semantic_type\": \"\",\n        \"description\": \"\"\n      }\n    },\n    {\n      \"column\": \"two_day_price\",\n      \"properties\": {\n        \"dtype\": \"number\",\n        \"std\": 112.75833156477111,\n        \"min\": 9.97,\n        \"max\": 691.69,\n        \"num_unique_values\": 2854,\n        \"samples\": [\n          159.43,\n          145.24\n        ],\n        \"semantic_type\": \"\",\n        \"description\": \"\"\n      }\n    },\n    {\n      \"column\": \"three_day_price\",\n      \"properties\": {\n        \"dtype\": \"number\",\n        \"std\": 112.96050539341984,\n        \"min\": 10.3,\n        \"max\": 688.29,\n        \"num_unique_values\": 2847,\n        \"samples\": [\n          103.41,\n          402.86\n        ],\n        \"semantic_type\": \"\",\n        \"description\": \"\"\n      }\n    },\n    {\n      \"column\": \"historical_price\",\n      \"properties\": {\n        \"dtype\": \"number\",\n        \"std\": 113.7896515137466,\n        \"min\": 10.68,\n        \"max\": 671.51,\n        \"num_unique_values\": 2827,\n        \"samples\": [\n          497.38,\n          114.11\n        ],\n        \"semantic_type\": \"\",\n        \"description\": \"\"\n      }\n    },\n    {\n      \"column\": \"sentiment.1\",\n      \"properties\": {\n        \"dtype\": \"number\",\n        \"std\": 0,\n        \"min\": -1,\n        \"max\": 1,\n        \"num_unique_values\": 3,\n        \"samples\": [\n          1,\n          -1\n        ],\n        \"semantic_type\": \"\",\n        \"description\": \"\"\n      }\n    }\n  ]\n}"
            }
          },
          "metadata": {},
          "execution_count": 111
        }
      ]
    },
    {
      "cell_type": "code",
      "source": [
        "# This cell gets an equal sample from each label, so we end up with a valid accuracy that isn't inflated from too many of one label\n",
        "\n",
        "# Find the minimum class count across the classes\n",
        "min_count = df['sentiment'].value_counts().min()\n",
        "\n",
        "# Create a balanced dataframe by sampling min_count instances from each group\n",
        "df = df.groupby('sentiment').sample(n=min_count, random_state=42).reset_index(drop=True)\n",
        "\n",
        "# Sanity check for class balance\n",
        "print(df['sentiment'].value_counts())"
      ],
      "metadata": {
        "id": "rU-fODgXOsB2",
        "outputId": "c3d1b572-6ca1-4c56-e4a1-2263995a69ff",
        "colab": {
          "base_uri": "https://localhost:8080/"
        }
      },
      "execution_count": 112,
      "outputs": [
        {
          "output_type": "stream",
          "name": "stdout",
          "text": [
            "sentiment\n",
            "-1    868\n",
            " 0    868\n",
            " 1    868\n",
            "Name: count, dtype: int64\n"
          ]
        }
      ]
    },
    {
      "cell_type": "code",
      "source": [
        "# --- 2. Define Features (X) and Target (y) ---\n",
        "X = df[NUMERICAL_FEATURES]\n",
        "y = df[TARGET_COLUMN]\n",
        "\n",
        "# --- 3. Split Data ---\n",
        "X_train, X_test, y_train, y_test = train_test_split(\n",
        "    X, y,\n",
        "    test_size=TEST_SIZE,\n",
        "    random_state=RANDOM_STATE,\n",
        "    stratify=y # Important for classification, especially if classes are imbalanced\n",
        ")\n",
        "print(f\"\\nTraining set size: {X_train.shape[0]}\")\n",
        "print(f\"Test set size: {X_test.shape[0]}\")"
      ],
      "metadata": {
        "colab": {
          "base_uri": "https://localhost:8080/"
        },
        "id": "pah24PaH1dIO",
        "outputId": "d9ed124f-a9c7-4194-f7d1-4bfdbc7259ee"
      },
      "execution_count": 113,
      "outputs": [
        {
          "output_type": "stream",
          "name": "stdout",
          "text": [
            "\n",
            "Training set size: 2083\n",
            "Test set size: 521\n"
          ]
        }
      ]
    },
    {
      "cell_type": "code",
      "source": [
        "# --- 5. Choose and Define the Model ---\n",
        "# Using RandomForestClassifier as an example. It often works well with mixed data.\n",
        "# You can adjust n_estimators, max_depth, etc., or try other models.\n",
        "# class_weight='balanced' can help if your classes (-1, 0, 1) are imbalanced.\n",
        "model = RandomForestClassifier(n_estimators=100, random_state=RANDOM_STATE, class_weight='balanced', n_jobs=-1)\n",
        "\n",
        "# Alternative: Logistic Regression (often faster, good baseline)\n",
        "model = LogisticRegression(multi_class='ovr', solver='liblinear', class_weight='balanced', random_state=RANDOM_STATE)\n",
        "\n",
        "print(\"\\nTraining the model...\")\n",
        "model.fit(X_train, y_train)\n",
        "print(\"Model training complete.\")\n",
        "\n",
        "# --- 7. Make Predictions ---\n",
        "print(\"\\nMaking predictions on the test set...\")\n",
        "y_pred = model.predict(X_test)\n",
        "\n",
        "# --- 8. Evaluate the Model ---\n",
        "accuracy = accuracy_score(y_test, y_pred)\n",
        "print(f\"\\n--- Model Evaluation ---\")\n",
        "print(f\"Accuracy: {accuracy:.4f}\")\n",
        "\n",
        "\n",
        "print(\"\\nClassification Report:\")\n",
        "# Use labels=[-1, 0, 1] to ensure all classes are shown even if one is missing in predictions\n",
        "# zero_division=0 handles cases where precision/recall might be zero for a class\n",
        "print(classification_report(y_test, y_pred, labels=[-1, 0, 1], target_names=['Down (-1)', 'Neutral (0)', 'Up (1)'], zero_division=0))\n",
        "\n",
        "print(\"\\nConfusion Matrix:\")\n",
        "# Rows: Actual, Columns: Predicted\n",
        "cm = confusion_matrix(y_test, y_pred, labels=[-1, 0, 1])\n",
        "print(pd.DataFrame(cm, index=['Actual Down', 'Actual Neutral', 'Actual Up'],\n",
        "                   columns=['Predicted Down', 'Predicted Neutral', 'Predicted Up']))"
      ],
      "metadata": {
        "colab": {
          "base_uri": "https://localhost:8080/"
        },
        "id": "GtKQwMr31dvo",
        "outputId": "8f83b3af-e44f-49a5-b3a6-f3470a005cb3"
      },
      "execution_count": 114,
      "outputs": [
        {
          "output_type": "stream",
          "name": "stdout",
          "text": [
            "\n",
            "Training the model...\n",
            "Model training complete.\n",
            "\n",
            "Making predictions on the test set...\n",
            "\n",
            "--- Model Evaluation ---\n",
            "Accuracy: 0.5489\n",
            "\n",
            "Classification Report:\n",
            "              precision    recall  f1-score   support\n",
            "\n",
            "   Down (-1)       0.00      0.00      0.00         0\n",
            " Neutral (0)       0.75      0.59      0.66       390\n",
            "      Up (1)       0.26      0.42      0.32       131\n",
            "\n",
            "    accuracy                           0.55       521\n",
            "   macro avg       0.34      0.34      0.33       521\n",
            "weighted avg       0.63      0.55      0.58       521\n",
            "\n",
            "\n",
            "Confusion Matrix:\n",
            "                Predicted Down  Predicted Neutral  Predicted Up\n",
            "Actual Down                  0                  0             0\n",
            "Actual Neutral               0                231           159\n",
            "Actual Up                    0                 76            55\n"
          ]
        },
        {
          "output_type": "stream",
          "name": "stderr",
          "text": [
            "/usr/local/lib/python3.11/dist-packages/sklearn/linear_model/_logistic.py:1256: FutureWarning: 'multi_class' was deprecated in version 1.5 and will be removed in 1.7. Use OneVsRestClassifier(LogisticRegression(..)) instead. Leave it to its default value to avoid this warning.\n",
            "  warnings.warn(\n"
          ]
        }
      ]
    },
    {
      "cell_type": "code",
      "source": [
        "# prompt: i now need a cell to predict a column called pct_change instead of stock_performance. the issue is that pct_change is a float instead of just being -1 0 or 1, so im not sure what model to use\n",
        "\n",
        "import pandas as pd\n",
        "from sklearn.model_selection import train_test_split\n",
        "from sklearn.ensemble import RandomForestRegressor  # Use a regressor for float target\n",
        "from sklearn.metrics import mean_squared_error, r2_score\n",
        "\n",
        "# ... (Previous code remains the same)\n",
        "\n",
        "# --- 2. Define Features (X) and Target (y) ---\n",
        "X = df[NUMERICAL_FEATURES]\n",
        "y = df['pct_change']  # Target is now 'pct_change'\n",
        "\n",
        "# --- 3. Split Data ---\n",
        "X_train, X_test, y_train, y_test = train_test_split(\n",
        "    X, y,\n",
        "    test_size=TEST_SIZE,\n",
        "    random_state=RANDOM_STATE\n",
        "    # No need for stratify with regression\n",
        ")\n",
        "\n",
        "# --- 5. Choose and Define the Model ---\n",
        "model = RandomForestRegressor(n_estimators=100, random_state=RANDOM_STATE, n_jobs=-1)\n",
        "\n",
        "print(\"\\nTraining the model...\")\n",
        "model.fit(X_train, y_train)\n",
        "print(\"Model training complete.\")\n",
        "\n",
        "# --- 7. Make Predictions ---\n",
        "print(\"\\nMaking predictions on the test set...\")\n",
        "y_pred = model.predict(X_test)\n",
        "\n",
        "# --- 8. Evaluate the Model ---\n",
        "mse = mean_squared_error(y_test, y_pred)\n",
        "rmse = mse**0.5\n",
        "r2 = r2_score(y_test, y_pred)\n",
        "\n",
        "print(f\"\\n--- Model Evaluation ---\")\n",
        "print(f\"Mean Squared Error (MSE): {mse:.4f}\")\n",
        "print(f\"Root Mean Squared Error (RMSE): {rmse:.4f}\")\n",
        "print(f\"R-squared (R2): {r2:.4f}\")\n"
      ],
      "metadata": {
        "id": "av76bSKciQvo",
        "outputId": "78249766-c993-4ad3-fb02-1cdd11e9a8f9",
        "colab": {
          "base_uri": "https://localhost:8080/"
        }
      },
      "execution_count": 115,
      "outputs": [
        {
          "output_type": "stream",
          "name": "stdout",
          "text": [
            "\n",
            "Training the model...\n",
            "Model training complete.\n",
            "\n",
            "Making predictions on the test set...\n",
            "\n",
            "--- Model Evaluation ---\n",
            "Mean Squared Error (MSE): 12.4437\n",
            "Root Mean Squared Error (RMSE): 3.5276\n",
            "R-squared (R2): -0.2084\n"
          ]
        }
      ]
    }
  ]
}